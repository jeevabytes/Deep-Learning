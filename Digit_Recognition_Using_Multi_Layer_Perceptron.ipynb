{
  "nbformat": 4,
  "nbformat_minor": 0,
  "metadata": {
    "colab": {
      "provenance": []
    },
    "kernelspec": {
      "name": "python3",
      "display_name": "Python 3"
    },
    "language_info": {
      "name": "python"
    }
  },
  "cells": [
    {
      "cell_type": "markdown",
      "source": [
        "# **Digit Recognition Using Multi-Layer Perceptron**"
      ],
      "metadata": {
        "id": "WkoHxoebVlyv"
      }
    },
    {
      "cell_type": "markdown",
      "source": [
        "## Importing libraries"
      ],
      "metadata": {
        "id": "5rLd9CkfYZgk"
      }
    },
    {
      "cell_type": "code",
      "source": [
        "import tensorflow as tf\n",
        "from tensorflow.keras.models import Sequential\n",
        "from tensorflow.keras.layers import Dense, Flatten\n",
        "from tensorflow.keras.optimizers import Adam\n",
        "from tensorflow.keras.datasets import mnist\n",
        "from tensorflow.keras.utils import to_categorical\n",
        "import matplotlib.pyplot as plt\n",
        "import numpy as np\n"
      ],
      "metadata": {
        "id": "2w8_4p874-S1"
      },
      "execution_count": null,
      "outputs": []
    },
    {
      "cell_type": "markdown",
      "source": [
        "## Defining the DigitRecognizer Class"
      ],
      "metadata": {
        "id": "WCpeL7n1ZpLF"
      }
    },
    {
      "cell_type": "code",
      "source": [
        "class DigitRecognizer:\n",
        "  #Initialization of the Model\n",
        "  def __init__(self,input_shape=(28,28),num_classes=10):\n",
        "    self.input_shape=input_shape\n",
        "    self.num_classes=num_classes\n",
        "    self.model=self._build_model()\n",
        "\n",
        "#Building the Neural Network Model\n",
        "  def _build_model(self):\n",
        "    model=Sequential([\n",
        "        Flatten(input_shape=self.input_shape),\n",
        "        Dense(128,activation=\"relu\"),\n",
        "        Dense(64,activation=\"relu\"),\n",
        "        Dense(self.num_classes,activation=\"softmax\")\n",
        "    ])\n",
        "    model.compile(optimizer=Adam(),loss=\"categorical_crossentropy\",metrics=[\"accuracy\"])\n",
        "    return model\n",
        "\n",
        "#Training the Model\n",
        "  def train(self,x_train,y_train,x_val,y_val,epochs=10,batch_size=32):\n",
        "    history=self.model.fit(x_train,y_train,validation_data=(x_val,y_val),\n",
        "                           epochs=epochs,batch_size=batch_size)\n",
        "    return history\n",
        "\n",
        "#Evaluating the Model\n",
        "  def evaluate(self,x_test,y_test):\n",
        "    loss,accuracy=self.model.evaluate(x_test,y_test)\n",
        "    print(f\"Test Accuracy: {accuracy*100:.2f}%\")\n",
        "    return accuracy\n",
        "\n",
        "#Making Predictions on a Single Image\n",
        "  def predict(self,image):\n",
        "    image=image.reshape(1,28,28)\n",
        "    prediction=self.model.predict(image)\n",
        "    return np.argmax(prediction)\n",
        "\n",
        "#Plotting Training Progress\n",
        "  def plot_training_history(self,history):\n",
        "    plt.plot(history.history['accuracy'],label='Training Accuracy')\n",
        "    plt.plot(history.history['val_accuracy'],label=\"Validation Accuracy\")\n",
        "    plt.xlabel(\"Epochs\")\n",
        "    plt.ylabel(\"Accuracy\")\n",
        "    plt.legend()\n",
        "    plt.title(\"Training Progress\")\n",
        "    plt.show()\n"
      ],
      "metadata": {
        "id": "RWEWYLv06e-c"
      },
      "execution_count": null,
      "outputs": []
    },
    {
      "cell_type": "markdown",
      "source": [
        "## Loading and Preprocessing the MNIST Dataset"
      ],
      "metadata": {
        "id": "pt4pg_oLZ72S"
      }
    },
    {
      "cell_type": "code",
      "source": [
        "#load dataset\n",
        "(x_train,y_train),(x_test,y_test)=mnist.load_data()\n",
        "x_train,x_test=x_train/255.0,x_test/255.0   #Normalize images\n",
        "y_train,y_test=to_categorical(y_train,10), to_categorical(y_test,10)  #Converting Labels to Categorical Format\n",
        "\n",
        "#split validation set\n",
        "x_val,y_val=x_train[-10000:],y_train[-10000:]\n",
        "x_train,y_train=x_train[:-10000],y_train[:-10000]\n"
      ],
      "metadata": {
        "id": "-laCLmRoCG8w",
        "colab": {
          "base_uri": "https://localhost:8080/"
        },
        "outputId": "fb5d28cf-98e8-4335-99d8-d391da575bf0"
      },
      "execution_count": null,
      "outputs": [
        {
          "output_type": "stream",
          "name": "stdout",
          "text": [
            "Downloading data from https://storage.googleapis.com/tensorflow/tf-keras-datasets/mnist.npz\n",
            "\u001b[1m11490434/11490434\u001b[0m \u001b[32m━━━━━━━━━━━━━━━━━━━━\u001b[0m\u001b[37m\u001b[0m \u001b[1m1s\u001b[0m 0us/step\n"
          ]
        }
      ]
    },
    {
      "cell_type": "markdown",
      "source": [
        "## Initializing & training the model"
      ],
      "metadata": {
        "id": "_S50dm8CakzG"
      }
    },
    {
      "cell_type": "code",
      "source": [
        "#initialize and train model\n",
        "digit_recognizer=DigitRecognizer()\n",
        "history=digit_recognizer.train(x_train,y_train,x_val,y_val,epochs=10,batch_size=32)\n",
        "digit_recognizer.plot_training_history(history)"
      ],
      "metadata": {
        "colab": {
          "base_uri": "https://localhost:8080/",
          "height": 874
        },
        "id": "f2rDUvtJIBS_",
        "outputId": "e24b1310-f7bf-4176-f536-1b87b54430af"
      },
      "execution_count": null,
      "outputs": [
        {
          "output_type": "stream",
          "name": "stderr",
          "text": [
            "/usr/local/lib/python3.11/dist-packages/keras/src/layers/reshaping/flatten.py:37: UserWarning: Do not pass an `input_shape`/`input_dim` argument to a layer. When using Sequential models, prefer using an `Input(shape)` object as the first layer in the model instead.\n",
            "  super().__init__(**kwargs)\n"
          ]
        },
        {
          "output_type": "stream",
          "name": "stdout",
          "text": [
            "Epoch 1/10\n",
            "\u001b[1m1563/1563\u001b[0m \u001b[32m━━━━━━━━━━━━━━━━━━━━\u001b[0m\u001b[37m\u001b[0m \u001b[1m15s\u001b[0m 8ms/step - accuracy: 0.8688 - loss: 0.4579 - val_accuracy: 0.9607 - val_loss: 0.1400\n",
            "Epoch 2/10\n",
            "\u001b[1m1563/1563\u001b[0m \u001b[32m━━━━━━━━━━━━━━━━━━━━\u001b[0m\u001b[37m\u001b[0m \u001b[1m15s\u001b[0m 4ms/step - accuracy: 0.9649 - loss: 0.1184 - val_accuracy: 0.9722 - val_loss: 0.0986\n",
            "Epoch 3/10\n",
            "\u001b[1m1563/1563\u001b[0m \u001b[32m━━━━━━━━━━━━━━━━━━━━\u001b[0m\u001b[37m\u001b[0m \u001b[1m7s\u001b[0m 5ms/step - accuracy: 0.9748 - loss: 0.0822 - val_accuracy: 0.9739 - val_loss: 0.0855\n",
            "Epoch 4/10\n",
            "\u001b[1m1563/1563\u001b[0m \u001b[32m━━━━━━━━━━━━━━━━━━━━\u001b[0m\u001b[37m\u001b[0m \u001b[1m9s\u001b[0m 4ms/step - accuracy: 0.9830 - loss: 0.0535 - val_accuracy: 0.9742 - val_loss: 0.0868\n",
            "Epoch 5/10\n",
            "\u001b[1m1563/1563\u001b[0m \u001b[32m━━━━━━━━━━━━━━━━━━━━\u001b[0m\u001b[37m\u001b[0m \u001b[1m7s\u001b[0m 5ms/step - accuracy: 0.9861 - loss: 0.0432 - val_accuracy: 0.9768 - val_loss: 0.0802\n",
            "Epoch 6/10\n",
            "\u001b[1m1563/1563\u001b[0m \u001b[32m━━━━━━━━━━━━━━━━━━━━\u001b[0m\u001b[37m\u001b[0m \u001b[1m6s\u001b[0m 4ms/step - accuracy: 0.9896 - loss: 0.0341 - val_accuracy: 0.9733 - val_loss: 0.0950\n",
            "Epoch 7/10\n",
            "\u001b[1m1563/1563\u001b[0m \u001b[32m━━━━━━━━━━━━━━━━━━━━\u001b[0m\u001b[37m\u001b[0m \u001b[1m7s\u001b[0m 4ms/step - accuracy: 0.9921 - loss: 0.0249 - val_accuracy: 0.9756 - val_loss: 0.0900\n",
            "Epoch 8/10\n",
            "\u001b[1m1563/1563\u001b[0m \u001b[32m━━━━━━━━━━━━━━━━━━━━\u001b[0m\u001b[37m\u001b[0m \u001b[1m10s\u001b[0m 5ms/step - accuracy: 0.9933 - loss: 0.0210 - val_accuracy: 0.9747 - val_loss: 0.0994\n",
            "Epoch 9/10\n",
            "\u001b[1m1563/1563\u001b[0m \u001b[32m━━━━━━━━━━━━━━━━━━━━\u001b[0m\u001b[37m\u001b[0m \u001b[1m6s\u001b[0m 4ms/step - accuracy: 0.9927 - loss: 0.0199 - val_accuracy: 0.9738 - val_loss: 0.1105\n",
            "Epoch 10/10\n",
            "\u001b[1m1563/1563\u001b[0m \u001b[32m━━━━━━━━━━━━━━━━━━━━\u001b[0m\u001b[37m\u001b[0m \u001b[1m7s\u001b[0m 5ms/step - accuracy: 0.9947 - loss: 0.0150 - val_accuracy: 0.9755 - val_loss: 0.1065\n"
          ]
        },
        {
          "output_type": "display_data",
          "data": {
            "text/plain": [
              "<Figure size 640x480 with 1 Axes>"
            ],
            "image/png": "[encoded data removed]"
          },
          "metadata": {}
        }
      ]
    },
    {
      "cell_type": "markdown",
      "source": [
        "## Evaluating & Testing the model"
      ],
      "metadata": {
        "id": "evWt1iC6asln"
      }
    },
    {
      "cell_type": "code",
      "source": [
        "#evaluate model\n",
        "digit_recognizer.evaluate(x_test,y_test)\n",
        "#test on a single image\n",
        "sample_image=x_test[0]\n",
        "predicted_label=digit_recognizer.predict(sample_image)\n",
        "print(f\"Predicted Digit: {predicted_label}\")"
      ],
      "metadata": {
        "colab": {
          "base_uri": "https://localhost:8080/"
        },
        "id": "F4WQv201IaV5",
        "outputId": "dfec1672-3c9a-4073-fbd3-3d62a0352328"
      },
      "execution_count": null,
      "outputs": [
        {
          "output_type": "stream",
          "name": "stdout",
          "text": [
            "\u001b[1m313/313\u001b[0m \u001b[32m━━━━━━━━━━━━━━━━━━━━\u001b[0m\u001b[37m\u001b[0m \u001b[1m1s\u001b[0m 2ms/step - accuracy: 0.9685 - loss: 0.1188\n",
            "Test Accuracy: 97.44%\n",
            "\u001b[1m1/1\u001b[0m \u001b[32m━━━━━━━━━━━━━━━━━━━━\u001b[0m\u001b[37m\u001b[0m \u001b[1m0s\u001b[0m 118ms/step\n",
            "Predicted Digit: 7\n"
          ]
        }
      ]
    },
    {
      "cell_type": "markdown",
      "source": [
        "## Displaying image"
      ],
      "metadata": {
        "id": "TVCdugU2ay3v"
      }
    },
    {
      "cell_type": "code",
      "source": [
        "#Display the image\n",
        "plt.imshow(sample_image,cmap=\"gray\")\n",
        "plt.title(f\"Predicted: {predicted_label}\")\n",
        "plt.show()"
      ],
      "metadata": {
        "colab": {
          "base_uri": "https://localhost:8080/",
          "height": 452
        },
        "id": "kA0LNd65QM_Q",
        "outputId": "d1eab972-c010-407b-cf7c-07f6508f3314"
      },
      "execution_count": null,
      "outputs": [
        {
          "output_type": "display_data",
          "data": {
            "text/plain": [
              "<Figure size 640x480 with 1 Axes>"
            ],
            "image/png": "[encoded data removed]"
          },
          "metadata": {}
        }
      ]
    },
    {
      "cell_type": "markdown",
      "source": [
        "## Conclusion"
      ],
      "metadata": {
        "id": "84KYohe1cWba"
      }
    },
    {
      "cell_type": "markdown",
      "source": [
        "This program uses TensorFlow/Keras to implement a digit recognizer based on neural networks.  The MNIST dataset, which consists of images of handwritten numbers, is used for training.  The model employs a softmax classifier, ReLU activations, and a multi-layer perceptron (MLP) with dense layers.  Following training, the model can successfully recognize handwritten digits and achieves high accuracy on test data."
      ],
      "metadata": {
        "id": "aV7M2eoXcZIg"
      }
    }
  ]
}