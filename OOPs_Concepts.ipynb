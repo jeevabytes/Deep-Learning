{
  "nbformat": 4,
  "nbformat_minor": 0,
  "metadata": {
    "colab": {
      "provenance": []
    },
    "kernelspec": {
      "name": "python3",
      "display_name": "Python 3"
    },
    "language_info": {
      "name": "python"
    }
  },
  "cells": [
    {
      "cell_type": "markdown",
      "source": [
        "# **Object Oriented Programming**"
      ],
      "metadata": {
        "id": "znubJLyPev5j"
      }
    },
    {
      "cell_type": "markdown",
      "source": [
        "## Basic class & object creation"
      ],
      "metadata": {
        "id": "k6qFIJyjfCAB"
      }
    },
    {
      "cell_type": "code",
      "source": [
        "class Person:\n",
        "  def __init__(self):\n",
        "    self.name=input(\"Enter name: \")\n",
        "    self.age=int(input(\"Enter age: \"))\n",
        "\n",
        "obj=Person()\n",
        "print(\"Name:\",obj.name)\n",
        "print(\"Age:\",obj.age)"
      ],
      "metadata": {
        "colab": {
          "base_uri": "https://localhost:8080/"
        },
        "id": "wTkyBbbHwtGi",
        "outputId": "a0d990b4-16b4-437b-f203-4f5c8708335b"
      },
      "execution_count": 1,
      "outputs": [
        {
          "output_type": "stream",
          "name": "stdout",
          "text": [
            "Enter name: Ayisha\n",
            "Enter age: 21\n",
            "Name: Ayisha\n",
            "Age: 21\n"
          ]
        }
      ]
    },
    {
      "cell_type": "markdown",
      "source": [
        "## Simple calculator using OOPs"
      ],
      "metadata": {
        "id": "Zm2i67JjfHO5"
      }
    },
    {
      "cell_type": "code",
      "execution_count": 2,
      "metadata": {
        "colab": {
          "base_uri": "https://localhost:8080/"
        },
        "id": "AgYva6BBoRwn",
        "outputId": "d7719918-53bd-4cec-e837-eeb13069efc7"
      },
      "outputs": [
        {
          "output_type": "stream",
          "name": "stdout",
          "text": [
            "Enter first number3\n",
            "Enter second number5\n",
            "Menu\n",
            "Enter your choice (1 to 5)3\n",
            "Product is  15\n",
            "Enter your choice (1 to 5)5\n",
            "Exiting\n"
          ]
        }
      ],
      "source": [
        "class calculator:\n",
        "  def __init__(self):\n",
        "    self.x=int(input(\"Enter first number\"))\n",
        "    self.y=int(input(\"Enter second number\"))\n",
        "\n",
        "  def add(self):\n",
        "    sum=self.x+self.y\n",
        "    print(\"Sum is\",sum)\n",
        "\n",
        "  def subtract(self):\n",
        "    if self.x>self.y:\n",
        "      difference=self.x-self.y\n",
        "    else:\n",
        "      difference=self.y-self.x\n",
        "    print(\"Difference is \",difference)\n",
        "\n",
        "  def multiply(self):\n",
        "    pdt=self.x*self.y\n",
        "    print(\"Product is \",pdt)\n",
        "\n",
        "  def divide(self):\n",
        "    if self.y!=0:\n",
        "      res=self.x/self.y\n",
        "    else:\n",
        "      print(\"Denominator is zero\")\n",
        "    print(\"Quotient is\",res)\n",
        "\n",
        "p=calculator()\n",
        "print(\"Menu\")\n",
        "\n",
        "while True:\n",
        "  c=int(input(\"Enter your choice (1 to 5)\"))\n",
        "  if c==1:\n",
        "    p.add()\n",
        "  elif c==2:\n",
        "    p.subtract()\n",
        "  elif c==3:\n",
        "    p.multiply()\n",
        "  elif c==4:\n",
        "    p.divide()\n",
        "  elif c==5:\n",
        "    print(\"Exiting\")\n",
        "    break\n",
        "  else:\n",
        "    print(\"Enter a valid choice\")\n",
        "\n",
        "\n"
      ]
    },
    {
      "cell_type": "markdown",
      "source": [
        "## Single Inheritance"
      ],
      "metadata": {
        "id": "dlRgsOEifNVX"
      }
    },
    {
      "cell_type": "code",
      "source": [
        "#single inheritance\n",
        "import numpy as np\n",
        "class circle:\n",
        "  def __init__(self):\n",
        "    self.r=int(input(\"Enter radius\"))\n",
        "class area(circle):\n",
        "  def ar(self):\n",
        "    print(\"Area: \",np.pi*self.r**2)\n",
        "\n",
        "obj=area()\n",
        "obj.ar()"
      ],
      "metadata": {
        "colab": {
          "base_uri": "https://localhost:8080/"
        },
        "id": "RXpt_cwSwsAB",
        "outputId": "0ddf2d32-141f-4b7f-ac9c-60762b53daef"
      },
      "execution_count": 3,
      "outputs": [
        {
          "output_type": "stream",
          "name": "stdout",
          "text": [
            "Enter radius3\n",
            "Area:  28.274333882308138\n"
          ]
        }
      ]
    },
    {
      "cell_type": "markdown",
      "source": [
        "## Multiple Inheritance"
      ],
      "metadata": {
        "id": "87X5aKZefQXY"
      }
    },
    {
      "cell_type": "code",
      "source": [
        "#Multiple inheritance\n",
        "class Greet:\n",
        "  def prn(self):\n",
        "    print(\"Hii\")\n",
        "class NewGreet:\n",
        "  def prn(self):\n",
        "    print(\"Hello\")\n",
        "class MyGreet(Greet,NewGreet):\n",
        "  pass\n",
        "\n",
        "pt=MyGreet()\n",
        "pt.prn()\n"
      ],
      "metadata": {
        "colab": {
          "base_uri": "https://localhost:8080/"
        },
        "id": "W1Mhqci-2XDV",
        "outputId": "a0316f1c-385e-4815-98ed-7b8a85dd3d52"
      },
      "execution_count": 4,
      "outputs": [
        {
          "output_type": "stream",
          "name": "stdout",
          "text": [
            "Hii\n"
          ]
        }
      ]
    },
    {
      "cell_type": "markdown",
      "source": [
        "## Method overriding"
      ],
      "metadata": {
        "id": "7PCFt-w2fUt7"
      }
    },
    {
      "cell_type": "code",
      "source": [
        "#method overriding\n",
        "class A:\n",
        "    def display(self):\n",
        "        print(\"I am in Super Class\")\n",
        "\n",
        "class B(A):\n",
        "    def display(self):\n",
        "        print(\"I am in Sub Class\")\n",
        "        super().display()\n",
        "\n",
        "D1=B()\n",
        "D1.display()\n"
      ],
      "metadata": {
        "colab": {
          "base_uri": "https://localhost:8080/"
        },
        "id": "KvpiSnNm40jM",
        "outputId": "887f6d5d-8fcb-48fb-c250-0cd1ff1e4e78"
      },
      "execution_count": 5,
      "outputs": [
        {
          "output_type": "stream",
          "name": "stdout",
          "text": [
            "I am in Sub Class\n",
            "I am in Super Class\n"
          ]
        }
      ]
    }
  ]
}