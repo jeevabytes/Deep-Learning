{
  "nbformat": 4,
  "nbformat_minor": 0,
  "metadata": {
    "colab": {
      "provenance": []
    },
    "kernelspec": {
      "name": "python3",
      "display_name": "Python 3"
    },
    "language_info": {
      "name": "python"
    }
  },
  "cells": [
    {
      "cell_type": "markdown",
      "source": [
        "# **Perceptron Model using Iris dataset**"
      ],
      "metadata": {
        "id": "ylcWKJMVs9AB"
      }
    },
    {
      "cell_type": "markdown",
      "source": [
        "## Loading dataset"
      ],
      "metadata": {
        "id": "4bLsFMtatDlA"
      }
    },
    {
      "cell_type": "code",
      "source": [
        "#Reads the Iris dataset from a CSV file into a pandas DataFrame\n",
        "import pandas as pd\n",
        "url=\"/content/iris dataset.csv\"\n",
        "df=pd.read_csv(url)"
      ],
      "metadata": {
        "id": "xd4vEqjQA4pg"
      },
      "execution_count": 1,
      "outputs": []
    },
    {
      "cell_type": "markdown",
      "source": [
        "## Removing One Class (Iris-Setosa)"
      ],
      "metadata": {
        "id": "Tj0B1oiwtPju"
      }
    },
    {
      "cell_type": "code",
      "source": [
        "#Filters out Iris-Setosa from the dataset to perform binary classification\n",
        "df=df[df['y']!=\"Iris-Setosa\"] #gives all rows except rows with Iris-Setosa\n",
        "print(df)"
      ],
      "metadata": {
        "colab": {
          "base_uri": "https://localhost:8080/"
        },
        "id": "1Bc9g5YEBHCt",
        "outputId": "ae16005b-41ac-4462-f9f0-ae07481d92bd"
      },
      "execution_count": 2,
      "outputs": [
        {
          "output_type": "stream",
          "name": "stdout",
          "text": [
            "      x1   x2   x3   x4                 y\n",
            "50   7.0  3.2  4.7  1.4  Iris-Versicolour\n",
            "51   6.4  3.2  4.5  1.5  Iris-Versicolour\n",
            "52   6.9  3.1  4.9  1.5  Iris-Versicolour\n",
            "53   5.5  2.3  4.0  1.3  Iris-Versicolour\n",
            "54   6.5  2.8  4.6  1.5  Iris-Versicolour\n",
            "..   ...  ...  ...  ...               ...\n",
            "145  6.7  3.0  5.2  2.3    Iris-Virginica\n",
            "146  6.3  2.5  5.0  1.9    Iris-Virginica\n",
            "147  6.5  3.0  5.2  2.0    Iris-Virginica\n",
            "148  6.2  3.4  5.4  2.3    Iris-Virginica\n",
            "149  5.9  3.0  5.1  1.8    Iris-Virginica\n",
            "\n",
            "[100 rows x 5 columns]\n"
          ]
        }
      ]
    },
    {
      "cell_type": "markdown",
      "source": [
        "## Label Encoding"
      ],
      "metadata": {
        "id": "Q_DeJbj6t3ZU"
      }
    },
    {
      "cell_type": "code",
      "source": [
        "#Converts categorical labels (Iris-Versicolor and Iris-Virginica) into numerical values using Label Encoding (0 and 1)\n",
        "from sklearn.preprocessing import LabelEncoder\n",
        "data=df['y']\n",
        "encoder=LabelEncoder()\n",
        "encoder.fit(data)\n",
        "encoded_data=encoder.transform(data)\n",
        "df=pd.DataFrame({\"y\":encoded_data})\n",
        "print(df)"
      ],
      "metadata": {
        "colab": {
          "base_uri": "https://localhost:8080/"
        },
        "id": "JdwqGj3fJpHH",
        "outputId": "b4c5255f-c88e-45e5-8165-a7d78bf69cf0"
      },
      "execution_count": 3,
      "outputs": [
        {
          "output_type": "stream",
          "name": "stdout",
          "text": [
            "    y\n",
            "0   0\n",
            "1   0\n",
            "2   0\n",
            "3   0\n",
            "4   0\n",
            ".. ..\n",
            "95  1\n",
            "96  1\n",
            "97  1\n",
            "98  1\n",
            "99  1\n",
            "\n",
            "[100 rows x 1 columns]\n"
          ]
        }
      ]
    },
    {
      "cell_type": "markdown",
      "source": [
        "## Perceptron Model"
      ],
      "metadata": {
        "id": "WdmyXXipugtv"
      }
    },
    {
      "cell_type": "code",
      "source": [
        "import numpy as np\n",
        "class perceptron:\n",
        "#perceptron class defines the constructor (__init__method),which initializes key parameters of the perception model\n",
        "  def __init__(self,input_size,learning_rate=0.1,epochs=100):\n",
        "    self.weights=np.zeros(input_size)\n",
        "    self.bias=0\n",
        "    self.learning_rate=learning_rate\n",
        "    self.epochs=epochs\n",
        "\n",
        "#defining activation function\n",
        "  def activation(self,x):\n",
        "    return 1 if x>=0 else 0  #step function\n",
        "\n",
        "#predict method is responsible for forward propagation in the perceptron model\n",
        "#it takes an input vector x,computes the weighted sum,applies the activation function, and returns the predicted output\n",
        "  def predict(self,x):\n",
        "    z=np.dot(self.weights,x)+self.bias\n",
        "    return self.activation(z)\n",
        "\n",
        "#train method is responsible for training the perceptron model using labeled input data\n",
        "#it follows the perceptron learning algorithm,adjusting weights iteratively based on classification errors\n",
        "  def train(self,X,y):\n",
        "    for epoch in range(self.epochs):\n",
        "      updates=0 #track updates to check convergence\n",
        "      for i in range(len(X)):\n",
        "        prediction=self.predict(X[i])\n",
        "        error=y[i]-prediction\n",
        "        if error!=0:\n",
        "          self.weights+=self.learning_rate*error*X[i]\n",
        "          self.bias+=self.learning_rate*error\n",
        "          updates+=1\n",
        "      if updates==0:#if no updates,training is complete\n",
        "        print(f\"Converged at epoch {epoch+1}\")\n",
        "        break\n",
        "\n",
        "#example usage\n",
        "X=np.array([[0,0],[0,1],[1,0],[1,1]]) #input features\n",
        "y=np.array([0,0,0,1])#AND Gate labels\n",
        "\n",
        "perceptron=perceptron(input_size=2)\n",
        "perceptron.train(X,y)\n",
        "\n",
        "#Testing\n",
        "for x in X:\n",
        "  print(f\"Input:{x},Predicted Output: {perceptron.predict(x)}\")\n"
      ],
      "metadata": {
        "id": "xMn9uVkxL0qn",
        "colab": {
          "base_uri": "https://localhost:8080/"
        },
        "outputId": "504e01e3-e9fc-49af-bf0f-63dbf9802914"
      },
      "execution_count": 4,
      "outputs": [
        {
          "output_type": "stream",
          "name": "stdout",
          "text": [
            "Converged at epoch 4\n",
            "Input:[0 0],Predicted Output: 0\n",
            "Input:[0 1],Predicted Output: 0\n",
            "Input:[1 0],Predicted Output: 0\n",
            "Input:[1 1],Predicted Output: 1\n"
          ]
        }
      ]
    },
    {
      "cell_type": "markdown",
      "source": [
        "Using a Perceptron model, this code carries out binary classification.  The Iris dataset is first preprocessed, with labels encoded and one class removed.  Then, to show that a Perceptron can learn logical operations, it is put into practice and trained using the AND gate dataset.  Inputs are successfully classified by the model, which iteratively modifies its weights.  This method demonstrates a perceptron's foundations for binary classification challenges."
      ],
      "metadata": {
        "id": "7uVCcu_quuGe"
      }
    }
  ]
}